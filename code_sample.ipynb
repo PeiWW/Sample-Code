{
  "nbformat": 4,
  "nbformat_minor": 0,
  "metadata": {
    "colab": {
      "provenance": [],
      "include_colab_link": true
    },
    "kernelspec": {
      "name": "python3",
      "display_name": "Python 3"
    },
    "language_info": {
      "name": "python"
    }
  },
  "cells": [
    {
      "cell_type": "markdown",
      "metadata": {
        "id": "view-in-github",
        "colab_type": "text"
      },
      "source": [
        "<a href=\"https://colab.research.google.com/github/PeiWW/Sample-Code/blob/main/code_sample.ipynb\" target=\"_parent\"><img src=\"https://colab.research.google.com/assets/colab-badge.svg\" alt=\"Open In Colab\"/></a>"
      ]
    },
    {
      "cell_type": "markdown",
      "source": [
        "# Python version: Python 3.7.14\n",
        "# pandas version: 1.3.5\n",
        "# numpy version: 1.21.6\n",
        "# matplotlib.pyplot version: 3.2.2\n",
        "# PyTorch version: 1.12.1+cu113"
      ],
      "metadata": {
        "id": "fblcaPUl9-rn"
      }
    },
    {
      "cell_type": "code",
      "execution_count": null,
      "metadata": {
        "colab": {
          "base_uri": "https://localhost:8080/"
        },
        "id": "KP6I2RdM7bVm",
        "outputId": "2301612e-7959-48c4-9fb3-803961e55098"
      },
      "outputs": [
        {
          "output_type": "stream",
          "name": "stdout",
          "text": [
            "Looking in indexes: https://pypi.org/simple, https://us-python.pkg.dev/colab-wheels/public/simple/\n",
            "Looking in links: https://pytorch-geometric.com/whl/torch-1.12.1+cu113.html\n",
            "Requirement already satisfied: torch-scatter in /usr/local/lib/python3.7/dist-packages (2.0.9)\n",
            "Looking in indexes: https://pypi.org/simple, https://us-python.pkg.dev/colab-wheels/public/simple/\n",
            "Looking in links: https://pytorch-geometric.com/whl/torch-1.12.1+cu113.html\n",
            "Requirement already satisfied: torch-sparse in /usr/local/lib/python3.7/dist-packages (0.6.15)\n",
            "Requirement already satisfied: scipy in /usr/local/lib/python3.7/dist-packages (from torch-sparse) (1.7.3)\n",
            "Requirement already satisfied: numpy<1.23.0,>=1.16.5 in /usr/local/lib/python3.7/dist-packages (from scipy->torch-sparse) (1.21.6)\n",
            "Looking in indexes: https://pypi.org/simple, https://us-python.pkg.dev/colab-wheels/public/simple/\n",
            "Looking in links: https://pytorch-geometric.com/whl/torch-1.12.1+cu113.html\n",
            "Requirement already satisfied: torch-cluster in /usr/local/lib/python3.7/dist-packages (1.6.0)\n",
            "Looking in indexes: https://pypi.org/simple, https://us-python.pkg.dev/colab-wheels/public/simple/\n",
            "Looking in links: https://pytorch-geometric.com/whl/torch-1.12.1+cu113.html\n",
            "Requirement already satisfied: torch-spline-conv in /usr/local/lib/python3.7/dist-packages (1.2.1)\n",
            "Looking in indexes: https://pypi.org/simple, https://us-python.pkg.dev/colab-wheels/public/simple/\n",
            "Requirement already satisfied: torch-geometric in /usr/local/lib/python3.7/dist-packages (2.1.0.post1)\n",
            "Requirement already satisfied: pyparsing in /usr/local/lib/python3.7/dist-packages (from torch-geometric) (3.0.9)\n",
            "Requirement already satisfied: tqdm in /usr/local/lib/python3.7/dist-packages (from torch-geometric) (4.64.1)\n",
            "Requirement already satisfied: scipy in /usr/local/lib/python3.7/dist-packages (from torch-geometric) (1.7.3)\n",
            "Requirement already satisfied: jinja2 in /usr/local/lib/python3.7/dist-packages (from torch-geometric) (2.11.3)\n",
            "Requirement already satisfied: numpy in /usr/local/lib/python3.7/dist-packages (from torch-geometric) (1.21.6)\n",
            "Requirement already satisfied: scikit-learn in /usr/local/lib/python3.7/dist-packages (from torch-geometric) (1.0.2)\n",
            "Requirement already satisfied: requests in /usr/local/lib/python3.7/dist-packages (from torch-geometric) (2.23.0)\n",
            "Requirement already satisfied: MarkupSafe>=0.23 in /usr/local/lib/python3.7/dist-packages (from jinja2->torch-geometric) (2.0.1)\n",
            "Requirement already satisfied: certifi>=2017.4.17 in /usr/local/lib/python3.7/dist-packages (from requests->torch-geometric) (2022.9.24)\n",
            "Requirement already satisfied: urllib3!=1.25.0,!=1.25.1,<1.26,>=1.21.1 in /usr/local/lib/python3.7/dist-packages (from requests->torch-geometric) (1.24.3)\n",
            "Requirement already satisfied: idna<3,>=2.5 in /usr/local/lib/python3.7/dist-packages (from requests->torch-geometric) (2.10)\n",
            "Requirement already satisfied: chardet<4,>=3.0.2 in /usr/local/lib/python3.7/dist-packages (from requests->torch-geometric) (3.0.4)\n",
            "Requirement already satisfied: joblib>=0.11 in /usr/local/lib/python3.7/dist-packages (from scikit-learn->torch-geometric) (1.2.0)\n",
            "Requirement already satisfied: threadpoolctl>=2.0.0 in /usr/local/lib/python3.7/dist-packages (from scikit-learn->torch-geometric) (3.1.0)\n"
          ]
        }
      ],
      "source": [
        "# load libraries\n",
        "import pandas as pd\n",
        "import numpy as np\n",
        "import matplotlib\n",
        "import matplotlib.pyplot as plt\n",
        "\n",
        "import torch\n",
        "import torch.optim as optim\n",
        "import torch.nn as nn\n",
        "import torch.nn.functional as F\n",
        "from torch.nn import Module\n",
        "from torch.nn import Sequential\n",
        "from torch.nn import Conv2d\n",
        "from torch.nn import Linear\n",
        "from torch.nn import BatchNorm2d\n",
        "from torch.nn import MaxPool2d\n",
        "from torch.nn import ReLU\n",
        "from torch.nn import LogSoftmax\n",
        "from torch.nn import Dropout2d\n",
        "from torch.nn import CrossEntropyLoss\n",
        "from torch.nn import BatchNorm1d\n",
        "\n",
        "def format_pytorch_version(version):\n",
        "  return version.split('+')[0]\n",
        "\n",
        "TORCH_version = torch.__version__\n",
        "TORCH = format_pytorch_version(TORCH_version)\n",
        "\n",
        "def format_cuda_version(version):\n",
        "  return 'cu' + version.replace('.', '')\n",
        "\n",
        "CUDA_version = torch.version.cuda\n",
        "CUDA = format_cuda_version(CUDA_version)\n",
        "\n",
        "!pip install torch-scatter     -f https://pytorch-geometric.com/whl/torch-{TORCH}+{CUDA}.html\n",
        "!pip install torch-sparse      -f https://pytorch-geometric.com/whl/torch-{TORCH}+{CUDA}.html\n",
        "!pip install torch-cluster     -f https://pytorch-geometric.com/whl/torch-{TORCH}+{CUDA}.html\n",
        "!pip install torch-spline-conv -f https://pytorch-geometric.com/whl/torch-{TORCH}+{CUDA}.html\n",
        "!pip install torch-geometric "
      ]
    },
    {
      "cell_type": "code",
      "source": [
        "# Load Dataset TUDataset/MUTAG\n",
        "\n",
        "from torch_geometric.datasets import TUDataset\n",
        "from torch_geometric.transforms import NormalizeFeatures\n",
        "from torch_geometric.loader import DataLoader\n",
        "# dataset = KarateClub(transform=NormalizeFeatures())\n",
        "dataset = TUDataset(root='data/TUDataset', name='MUTAG', transform=NormalizeFeatures())\n",
        "print(f'Dataset: {dataset}:')\n",
        "print('======================')\n",
        "print(f'Number of graphs: {len(dataset)}')\n",
        "print(f'Number of features: {dataset.num_features}')\n",
        "print(f'Number of classes: {dataset.num_classes}')\n",
        "train_dataset = dataset[: int(len(dataset) * 0.8)]\n",
        "test_dataset = dataset[int(len(dataset) * 0.8): ]\n",
        "print('==== train_dataset =====')\n",
        "print(train_dataset)\n",
        "print('==== test_dataset =====')\n",
        "print(test_dataset)\n",
        "\n",
        "# the batch_size here has been changed from 4 to 8 to 16 to produce the 3 graphs.\n",
        "train_loader = DataLoader(train_dataset, batch_size=16, shuffle=True)\n",
        "test_loader = DataLoader(test_dataset, batch_size=1, shuffle=False)\n",
        "\n",
        "\n",
        "## outputs:\n",
        "# Dataset: MUTAG(188):\n",
        "# ======================\n",
        "# Number of graphs: 188\n",
        "# Number of features: 7\n",
        "# Number of classes: 2\n",
        "# ==== train_dataset =====\n",
        "# MUTAG(150)\n",
        "# ==== test_dataset =====\n",
        "# MUTAG(38)\n",
        "\n",
        "# For all tasks:\n",
        "# hidden_dim: 64\n",
        "# number of layers: 2\n",
        "# activation: ReLU\n",
        "# use Adam with learning rate = 0.01"
      ],
      "metadata": {
        "colab": {
          "base_uri": "https://localhost:8080/"
        },
        "id": "EkqGqpE_EL4K",
        "outputId": "71027eb1-b313-4b8e-8153-8f993bfa0034"
      },
      "execution_count": null,
      "outputs": [
        {
          "output_type": "stream",
          "name": "stdout",
          "text": [
            "Dataset: MUTAG(188):\n",
            "======================\n",
            "Number of graphs: 188\n",
            "Number of features: 7\n",
            "Number of classes: 2\n",
            "==== train_dataset =====\n",
            "MUTAG(150)\n",
            "==== test_dataset =====\n",
            "MUTAG(38)\n"
          ]
        }
      ]
    },
    {
      "cell_type": "code",
      "source": [
        "from torch_geometric.nn import GCNConv, GINConv\n",
        "from torch_geometric.nn import global_mean_pool, global_add_pool\n",
        "\n",
        "class GIN(Module):\n",
        "    def __init__(self, dim_h):\n",
        "        super(GIN, self).__init__()\n",
        "        self.conv1 = GINConv(\n",
        "            Sequential(Linear(dataset.num_features, dim_h),\n",
        "                       ReLU(),\n",
        "                       Linear(dim_h, dim_h),\n",
        "                       ReLU(),\n",
        "                       BatchNorm1d(dim_h)))\n",
        "        self.conv2 = GINConv(\n",
        "            Sequential(Linear(dim_h, dim_h), \n",
        "                       ReLU(),\n",
        "                       Linear(dim_h, dim_h), \n",
        "                       ReLU(),\n",
        "                       BatchNorm1d(dim_h)))\n",
        "        \n",
        "        self.lin1 = Linear(dim_h*2, dataset.num_classes)\n",
        "\n",
        "    def forward(self, x, edge_index, batch):\n",
        "        # Node embeddings \n",
        "        h1 = self.conv1(x, edge_index)\n",
        "        h1 = F.relu(h1)\n",
        "        h1 = F.dropout(h1, p=0.5, training=self.training)\n",
        "        h2 = self.conv2(h1, edge_index)\n",
        "\n",
        "        h1 = global_add_pool(h1, batch)\n",
        "        h2 = global_add_pool(h2, batch)\n",
        "\n",
        "        h = torch.cat((h1, h2), dim=1)\n",
        "\n",
        "        hidden = h\n",
        "\n",
        "        # Classifier\n",
        "        h = self.lin1(h)\n",
        "        #h = F.dropout(h, p=0.5, training=self.training)\n",
        "        \n",
        "        return hidden, F.log_softmax(h, dim=1)\n",
        "\n",
        "\n",
        "model = GIN(dim_h = 64)\n",
        "optimizer = torch.optim.Adam(model.parameters(), lr=0.01, weight_decay=0.0000001)\n",
        "criterion = CrossEntropyLoss()\n",
        "\n",
        "def train(model, loader):\n",
        "    criterion = CrossEntropyLoss()\n",
        "    optimizer = torch.optim.Adam(model.parameters(),\n",
        "                                      lr=0.01,\n",
        "                                      weight_decay=5e-4)\n",
        "    epochs = 30\n",
        "\n",
        "    all_train_acc = []\n",
        "    all_train_loss = []\n",
        "    all_test_acc = []\n",
        "\n",
        "    model.train()\n",
        "    for epoch in range(epochs):\n",
        "        total_loss = 0\n",
        "        acc = 0\n",
        "\n",
        "        # Train on batches\n",
        "        for data in loader:\n",
        "          optimizer.zero_grad()\n",
        "          _, out = model(data.x, data.edge_index, data.batch)\n",
        "          loss = criterion(out, data.y)\n",
        "          total_loss += loss\n",
        "          acc += accuracy(out.argmax(dim=1), data.y) / len(loader)\n",
        "          loss.backward()\n",
        "          optimizer.step()\n",
        "\n",
        "        all_train_acc.append(acc)\n",
        "        all_train_loss.append(total_loss)\n",
        "\n",
        "        # Print metrics\n",
        "        print(f'Epoch {epoch:>3} | Train Loss: {total_loss:.2f} '\n",
        "              f'| Train Acc: {acc*100:>5.2f}% ')\n",
        "          \n",
        "        test_loss, test_acc = test(model, test_loader)\n",
        "        all_test_acc.append(test_acc)\n",
        "        print(f'Test Loss: {test_loss:.2f} | Test Acc: {test_acc*100:.2f}%')\n",
        "    \n",
        "    return all_train_acc, all_train_loss, all_test_acc\n",
        "\n",
        "@torch.no_grad()\n",
        "def test(model, loader):\n",
        "    criterion = torch.nn.CrossEntropyLoss()\n",
        "    model.eval()\n",
        "    loss = 0\n",
        "    acc = 0\n",
        "\n",
        "    for data in loader:\n",
        "        _, out = model(data.x, data.edge_index, data.batch)\n",
        "        loss += criterion(out, data.y)\n",
        "        acc += accuracy(out.argmax(dim=1), data.y) / len(loader)\n",
        "\n",
        "    return loss, acc\n",
        "\n",
        "def accuracy(pred_y, y):\n",
        "    \"\"\"Calculate accuracy.\"\"\"\n",
        "    return ((pred_y == y).sum() / len(y)).item()"
      ],
      "metadata": {
        "id": "Lswx4wxX2ZZk"
      },
      "execution_count": null,
      "outputs": []
    },
    {
      "cell_type": "code",
      "source": [
        "all_train_acc, all_train_loss, all_test_acc = train(model, train_loader)"
      ],
      "metadata": {
        "colab": {
          "base_uri": "https://localhost:8080/"
        },
        "id": "X9zdBrsxzSfC",
        "outputId": "4edd0450-5a9c-4e35-a712-14da2e8ca3c4"
      },
      "execution_count": null,
      "outputs": [
        {
          "output_type": "stream",
          "name": "stdout",
          "text": [
            "Epoch   0 | Train Loss: 16.56 | Train Acc: 65.62% \n",
            "Test Loss: 215.03 | Test Acc: 68.42%\n",
            "Epoch   1 | Train Loss: 19.41 | Train Acc: 62.50% \n",
            "Test Loss: 16.78 | Test Acc: 76.32%\n",
            "Epoch   2 | Train Loss: 8.47 | Train Acc: 67.50% \n",
            "Test Loss: 19.21 | Test Acc: 68.42%\n",
            "Epoch   3 | Train Loss: 6.49 | Train Acc: 74.37% \n",
            "Test Loss: 18.82 | Test Acc: 65.79%\n",
            "Epoch   4 | Train Loss: 4.84 | Train Acc: 77.08% \n",
            "Test Loss: 17.66 | Test Acc: 78.95%\n",
            "Epoch   5 | Train Loss: 4.07 | Train Acc: 81.25% \n",
            "Test Loss: 29.40 | Test Acc: 68.42%\n",
            "Epoch   6 | Train Loss: 5.91 | Train Acc: 74.58% \n",
            "Test Loss: 27.03 | Test Acc: 73.68%\n",
            "Epoch   7 | Train Loss: 5.21 | Train Acc: 75.21% \n",
            "Test Loss: 17.27 | Test Acc: 73.68%\n",
            "Epoch   8 | Train Loss: 4.30 | Train Acc: 77.71% \n",
            "Test Loss: 20.76 | Test Acc: 78.95%\n",
            "Epoch   9 | Train Loss: 3.99 | Train Acc: 83.75% \n",
            "Test Loss: 16.98 | Test Acc: 76.32%\n",
            "Epoch  10 | Train Loss: 4.37 | Train Acc: 82.08% \n",
            "Test Loss: 16.98 | Test Acc: 78.95%\n",
            "Epoch  11 | Train Loss: 4.31 | Train Acc: 79.79% \n",
            "Test Loss: 16.70 | Test Acc: 78.95%\n",
            "Epoch  12 | Train Loss: 4.62 | Train Acc: 76.88% \n",
            "Test Loss: 17.03 | Test Acc: 78.95%\n",
            "Epoch  13 | Train Loss: 4.13 | Train Acc: 81.88% \n",
            "Test Loss: 17.07 | Test Acc: 78.95%\n",
            "Epoch  14 | Train Loss: 4.13 | Train Acc: 80.83% \n",
            "Test Loss: 16.32 | Test Acc: 76.32%\n",
            "Epoch  15 | Train Loss: 4.00 | Train Acc: 82.08% \n",
            "Test Loss: 19.79 | Test Acc: 78.95%\n",
            "Epoch  16 | Train Loss: 4.22 | Train Acc: 77.92% \n",
            "Test Loss: 17.14 | Test Acc: 76.32%\n",
            "Epoch  17 | Train Loss: 4.61 | Train Acc: 79.58% \n",
            "Test Loss: 17.12 | Test Acc: 81.58%\n",
            "Epoch  18 | Train Loss: 3.99 | Train Acc: 84.58% \n",
            "Test Loss: 16.99 | Test Acc: 68.42%\n",
            "Epoch  19 | Train Loss: 4.46 | Train Acc: 78.96% \n",
            "Test Loss: 17.68 | Test Acc: 71.05%\n",
            "Epoch  20 | Train Loss: 4.44 | Train Acc: 79.37% \n",
            "Test Loss: 18.43 | Test Acc: 71.05%\n",
            "Epoch  21 | Train Loss: 4.11 | Train Acc: 78.54% \n",
            "Test Loss: 18.38 | Test Acc: 68.42%\n",
            "Epoch  22 | Train Loss: 4.84 | Train Acc: 77.92% \n",
            "Test Loss: 18.74 | Test Acc: 78.95%\n",
            "Epoch  23 | Train Loss: 3.88 | Train Acc: 79.38% \n",
            "Test Loss: 19.55 | Test Acc: 78.95%\n",
            "Epoch  24 | Train Loss: 3.91 | Train Acc: 81.46% \n",
            "Test Loss: 18.97 | Test Acc: 71.05%\n",
            "Epoch  25 | Train Loss: 4.00 | Train Acc: 83.33% \n",
            "Test Loss: 21.95 | Test Acc: 76.32%\n",
            "Epoch  26 | Train Loss: 3.70 | Train Acc: 82.08% \n",
            "Test Loss: 17.55 | Test Acc: 78.95%\n",
            "Epoch  27 | Train Loss: 3.60 | Train Acc: 85.62% \n",
            "Test Loss: 19.72 | Test Acc: 68.42%\n",
            "Epoch  28 | Train Loss: 4.01 | Train Acc: 77.92% \n",
            "Test Loss: 19.77 | Test Acc: 78.95%\n",
            "Epoch  29 | Train Loss: 3.72 | Train Acc: 81.88% \n",
            "Test Loss: 18.52 | Test Acc: 76.32%\n"
          ]
        }
      ]
    },
    {
      "cell_type": "code",
      "source": [
        "# Train Accuracy\n",
        "x = list(np.arange(1, 31))\n",
        "y1 = [i.detach().numpy().tolist() for i in all_train_loss]\n",
        "y2 = [1-x for x in all_train_acc]\n",
        "y3 = [1-x for x in all_test_acc]\n",
        "\n",
        "fig, ax1 = plt.subplots()\n",
        "ax2 = ax1.twinx()\n",
        "ax1.plot(x, y1, 'r-')\n",
        "ax2.plot(x, y2)\n",
        "ax2.plot(x, y3)\n",
        "\n",
        "ax1.set_xlabel('Epochs')\n",
        "ax1.set_ylabel('Train Loss', color='r')\n",
        "ax2.set_ylabel('Classification Error')\n",
        "\n",
        "ax1.legend([\"Train Loss\"], loc =\"upper left\")\n",
        "ax2.legend(['Train Error', 'Test Error'], loc =\"upper right\")\n",
        "\n",
        "\n",
        "ax1.set_ylim([0, 100])\n",
        "ax2.set_ylim([0, 0.80])\n",
        "\n",
        "\n",
        "plt.title('Batch 16 Performance w.r.t. iteration')\n",
        "\n",
        "plt.show()"
      ],
      "metadata": {
        "colab": {
          "base_uri": "https://localhost:8080/",
          "height": 295
        },
        "id": "yrRjYdcVkpCR",
        "outputId": "854fd894-b319-4051-f0b4-b0f5224ad42a"
      },
      "execution_count": null,
      "outputs": [
        {
          "output_type": "display_data",
          "data": {
            "text/plain": [
              "<Figure size 432x288 with 2 Axes>"
            ],
            "image/png": "[encoded data removed]"
          },
          "metadata": {
            "needs_background": "light"
          }
        }
      ]
    }
  ]
}